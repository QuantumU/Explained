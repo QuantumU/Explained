{
 "cells": [
  {
   "cell_type": "markdown",
   "metadata": {},
   "source": [
    "# CodeFemme"
   ]
  },
  {
   "cell_type": "markdown",
   "metadata": {
    "slideshow": {
     "slide_type": "slide"
    }
   },
   "source": [
    "## Numpy\n",
    "\n",
    "NumPy is the fundamental package for scientific computing with Python.\n",
    "\n",
    "In Python, data is almost universally represented as NumPy arrays. Even newer tools like Pandas are built around the NumPy array.\n",
    "\n",
    "We will be seeing: \n",
    "1. 1D array, 2D array \n",
    "2. Array slices, joins, subsets \n",
    "3. Arithmetic Operations on 2D arrays \n",
    "4. Covariance, Correlation and linear regression \n"
   ]
  },
  {
   "cell_type": "markdown",
   "metadata": {
    "slideshow": {
     "slide_type": "subslide"
    }
   },
   "source": [
    "### Initializing Numpy Arrays \n",
    "\n",
    "1. Using np.random\n",
    "2. Using np.ndarray"
   ]
  },
  {
   "cell_type": "code",
   "execution_count": 11,
   "metadata": {
    "slideshow": {
     "slide_type": "slide"
    }
   },
   "outputs": [],
   "source": [
    "import numpy as np\n",
    "np.random.seed(0)  # seed for reproducibility\n",
    "x1 = np.random.randint(10, size=6)  # One-dimensional array\n",
    "x2 = np.random.randint(10, size=(3, 3))  # Two-dimensional array"
   ]
  },
  {
   "cell_type": "code",
   "execution_count": 12,
   "metadata": {
    "slideshow": {
     "slide_type": "fragment"
    }
   },
   "outputs": [
    {
     "name": "stdout",
     "output_type": "stream",
     "text": [
      "[5 0 3 3 7 9]\n"
     ]
    }
   ],
   "source": [
    "print(x1)"
   ]
  },
  {
   "cell_type": "code",
   "execution_count": 13,
   "metadata": {
    "slideshow": {
     "slide_type": "fragment"
    }
   },
   "outputs": [
    {
     "name": "stdout",
     "output_type": "stream",
     "text": [
      "[[3 5 2]\n",
      " [4 7 6]\n",
      " [8 8 1]]\n"
     ]
    }
   ],
   "source": [
    "print(x2)"
   ]
  },
  {
   "cell_type": "markdown",
   "metadata": {
    "slideshow": {
     "slide_type": "slide"
    }
   },
   "source": [
    "## Using np.ndarray()"
   ]
  },
  {
   "cell_type": "code",
   "execution_count": 29,
   "metadata": {
    "slideshow": {
     "slide_type": "subslide"
    }
   },
   "outputs": [
    {
     "name": "stdout",
     "output_type": "stream",
     "text": [
      "[[1.1 2.2]\n",
      " [1.3 2.4]]\n"
     ]
    }
   ],
   "source": [
    "x = np.ndarray(shape=(2,2), dtype=float,buffer = np.array([[1.1,2.2],[1.3,2.4]]))\n",
    "print(x)"
   ]
  },
  {
   "cell_type": "code",
   "execution_count": 25,
   "metadata": {
    "slideshow": {
     "slide_type": "subslide"
    }
   },
   "outputs": [
    {
     "name": "stdout",
     "output_type": "stream",
     "text": [
      "[[1.1 2.2]\n",
      " [1.3 2.4]]\n"
     ]
    }
   ],
   "source": [
    "x = np.ndarray(shape=(2,2), dtype=int,buffer = np.array([[1,2],[1,2]]))\n",
    "print(x)"
   ]
  },
  {
   "cell_type": "markdown",
   "metadata": {
    "slideshow": {
     "slide_type": "slide"
    }
   },
   "source": [
    "## Attributes of ndarray"
   ]
  },
  {
   "cell_type": "markdown",
   "metadata": {
    "slideshow": {
     "slide_type": "subslide"
    }
   },
   "source": [
    "Each array has attributes `ndim` (the number of dimensions), `shape` (the size of each dimension), and `size` (the total size of the array):"
   ]
  },
  {
   "cell_type": "code",
   "execution_count": 14,
   "metadata": {
    "slideshow": {
     "slide_type": "fragment"
    }
   },
   "outputs": [
    {
     "name": "stdout",
     "output_type": "stream",
     "text": [
      "x2.ndim =  2\n",
      "x2.shape =  (3, 3)\n",
      "x2.size =  9\n"
     ]
    }
   ],
   "source": [
    "print(\"x2.ndim = \",x2.ndim)\n",
    "print(\"x2.shape = \",x2.shape)\n",
    "print(\"x2.size = \",x2.size)"
   ]
  },
  {
   "cell_type": "markdown",
   "metadata": {
    "slideshow": {
     "slide_type": "subslide"
    }
   },
   "source": [
    "Another useful attribute is the `dtype` which tells you about the type of elements in the array:"
   ]
  },
  {
   "cell_type": "code",
   "execution_count": 31,
   "metadata": {
    "slideshow": {
     "slide_type": "fragment"
    }
   },
   "outputs": [
    {
     "name": "stdout",
     "output_type": "stream",
     "text": [
      "x2.dtype =  int64\n"
     ]
    }
   ],
   "source": [
    "print(\"x2.dtype = \",x2.dtype)"
   ]
  },
  {
   "cell_type": "markdown",
   "metadata": {
    "slideshow": {
     "slide_type": "subslide"
    }
   },
   "source": [
    "Other attributes include `itemsize`, which lists the size (in bytes) of each array element, and `nbytes`, which lists the total size (in bytes) of the array:"
   ]
  },
  {
   "cell_type": "code",
   "execution_count": 37,
   "metadata": {
    "slideshow": {
     "slide_type": "fragment"
    }
   },
   "outputs": [
    {
     "name": "stdout",
     "output_type": "stream",
     "text": [
      "itemsize: 8 bytes\n",
      "nbytes: 72 bytes\n"
     ]
    }
   ],
   "source": [
    "print(\"itemsize:\", x2.itemsize, \"bytes\")\n",
    "print(\"nbytes:\", x2.nbytes, \"bytes\")"
   ]
  },
  {
   "cell_type": "markdown",
   "metadata": {
    "slideshow": {
     "slide_type": "slide"
    }
   },
   "source": [
    "## Array Indexing: Accessing Single Elements"
   ]
  },
  {
   "cell_type": "markdown",
   "metadata": {
    "slideshow": {
     "slide_type": "subslide"
    }
   },
   "source": [
    "In a one-dimensional array, the ith value (counting from zero) can be accessed by specifying the desired index in square brackets, just as with Python lists:"
   ]
  },
  {
   "cell_type": "code",
   "execution_count": 41,
   "metadata": {
    "slideshow": {
     "slide_type": "fragment"
    }
   },
   "outputs": [
    {
     "name": "stdout",
     "output_type": "stream",
     "text": [
      "x1 =  [5 0 3 3 7 9]\n",
      "x1[0] =  5\n",
      "x1[-1] =  9\n"
     ]
    }
   ],
   "source": [
    "print(\"x1 = \",x1)\n",
    "print(\"x1[0] = \",x1[0]) # just like arrays in c/c++\n",
    "print(\"x1[-1] = \",x1[-1]) # negative indexing just like lists "
   ]
  },
  {
   "cell_type": "markdown",
   "metadata": {
    "slideshow": {
     "slide_type": "subslide"
    }
   },
   "source": [
    "In a multi-dimensional array, items can be accessed using a comma-separated tuple of indices:"
   ]
  },
  {
   "cell_type": "code",
   "execution_count": 49,
   "metadata": {
    "slideshow": {
     "slide_type": "fragment"
    }
   },
   "outputs": [
    {
     "name": "stdout",
     "output_type": "stream",
     "text": [
      "x2 = \n",
      "[[3 5 2]\n",
      " [4 7 6]\n",
      " [8 8 1]]\n",
      "x2[0] =  [3 5 2]\n",
      "x2[0][0]=  3\n",
      "x2[0,0] =  3\n",
      "x2[2][1]=  8\n",
      "x2[2,1]=  8\n"
     ]
    }
   ],
   "source": [
    "print(\"x2 = \"); print(x2)\n",
    "print(\"x2[0] = \",x2[0]) # will print the entire 1st row\n",
    "\n",
    "# to print 1st element of 1st row\n",
    "print(\"x2[0][0]= \", x2[0][0]) \n",
    "print(\"x2[0,0] = \",x2[0,0])\n",
    "\n",
    "# to print 2nd element of 3rd row\n",
    "print(\"x2[2][1]= \", x2[2][1])\n",
    "print(\"x2[2,1]= \", x2[2,1])\n"
   ]
  },
  {
   "cell_type": "markdown",
   "metadata": {
    "slideshow": {
     "slide_type": "subslide"
    }
   },
   "source": [
    "Values can also be modified using any of the above index notation:"
   ]
  },
  {
   "cell_type": "code",
   "execution_count": 53,
   "metadata": {
    "slideshow": {
     "slide_type": "fragment"
    }
   },
   "outputs": [
    {
     "name": "stdout",
     "output_type": "stream",
     "text": [
      "[[12  5  2]\n",
      " [ 4  7  6]\n",
      " [ 8  8  1]]\n"
     ]
    }
   ],
   "source": [
    "x2[0, 0] = 12\n",
    "print(x2)"
   ]
  },
  {
   "cell_type": "code",
   "execution_count": 54,
   "metadata": {
    "slideshow": {
     "slide_type": "fragment"
    }
   },
   "outputs": [
    {
     "name": "stdout",
     "output_type": "stream",
     "text": [
      "[[14  5  2]\n",
      " [ 4  7  6]\n",
      " [ 8  8  1]]\n"
     ]
    }
   ],
   "source": [
    "x2[0][0] = 14\n",
    "print(x2)"
   ]
  },
  {
   "cell_type": "markdown",
   "metadata": {
    "slideshow": {
     "slide_type": "subslide"
    }
   },
   "source": [
    "**NOTE :** Unlike Python lists, NumPy arrays have a fixed type. This means, for example, if you attempt to insert a floating-point value to an integer array, the value will be silently truncated.\n",
    "\n",
    "i.e the float value gets converted to nearest int value."
   ]
  },
  {
   "cell_type": "code",
   "execution_count": 61,
   "metadata": {
    "slideshow": {
     "slide_type": "fragment"
    }
   },
   "outputs": [
    {
     "name": "stdout",
     "output_type": "stream",
     "text": [
      "[1 2 3 4 5]\n",
      "x1 after changing :  [1 2 5 4 5]\n"
     ]
    }
   ],
   "source": [
    "x1 = np.ndarray(5, buffer = np.array([1,2,3,4,5]),dtype = int)\n",
    "print(x1)\n",
    "x1[2] = 5.7\n",
    "print(\"x1 after changing : \",x1)"
   ]
  },
  {
   "cell_type": "markdown",
   "metadata": {
    "slideshow": {
     "slide_type": "slide"
    }
   },
   "source": [
    "## Array Slicing and Subsetting : Accessing Subarrays"
   ]
  },
  {
   "cell_type": "markdown",
   "metadata": {
    "slideshow": {
     "slide_type": "subslide"
    }
   },
   "source": [
    "Just as we can use square brackets to access individual array elements, we can also use them to access subarrays with the slice notation, marked by the colon (:) character. The NumPy slicing syntax follows that of the standard Python list; to access a slice of an array x, use :\n",
    "```python\n",
    "x[start:stop:step]\n",
    "```\n",
    "**NOTE :** Default value of `start` is `0`, `stop` is `size of object` and `step` is `1`. "
   ]
  },
  {
   "cell_type": "code",
   "execution_count": 71,
   "metadata": {
    "slideshow": {
     "slide_type": "subslide"
    }
   },
   "outputs": [
    {
     "name": "stdout",
     "output_type": "stream",
     "text": [
      "[0 1 2 3 4 5 6 7 8 9]\n",
      "x[:] =  [0 1 2 3 4 5 6 7 8 9]\n",
      "x[:5] =  [0 1 2 3 4]\n",
      "x[5:] =  [5 6 7 8 9]\n",
      "x[1:5] =  [1 2 3 4]\n",
      "x[1:5:2] =  [1 3]\n",
      "x[::-1] =  [9 8 7 6 5 4 3 2 1 0]\n"
     ]
    }
   ],
   "source": [
    "x = np.ndarray(10, buffer = np.array([0,1,2,3,4,5,6,7,8,9]),dtype = int)\n",
    "print(x)\n",
    "print(\"x[:] = \",x[:])\n",
    "print(\"x[:5] = \",x[:5])\n",
    "print(\"x[5:] = \",x[5:])\n",
    "print(\"x[1:5] = \",x[1:5])\n",
    "print(\"x[1:5:2] = \",x[1:5:2])\n",
    "print(\"x[::-1] = \",x[::-1])"
   ]
  },
  {
   "cell_type": "code",
   "execution_count": 78,
   "metadata": {},
   "outputs": [
    {
     "name": "stdout",
     "output_type": "stream",
     "text": [
      "[[5 0 3]\n",
      " [3 7 9]\n",
      " [3 5 2]]\n",
      "x2[:2, :3] = \n",
      "[[5 0 3]\n",
      " [3 7 9]]\n",
      "x2[:3, ::2] = \n",
      "[[5 3]\n",
      " [3 9]\n",
      " [3 2]]\n",
      "x2[::-1, ::-1] = \n",
      "[[2 5 3]\n",
      " [9 7 3]\n",
      " [3 0 5]]\n",
      "x2[:, 0] =  [5 3 3]\n"
     ]
    }
   ],
   "source": [
    "np.random.seed(0)  # seed for reproducibility\n",
    "x2 = np.random.randint(10, size=(3, 3))  \n",
    "print(x2)\n",
    "print(\"x2[:2, :3] = \"); print(x2[:2, :3])  # first two rows, first three columns\n",
    "print(\"x2[:3, ::2] = \"); print(x2[:3, ::2]) # all rows, every other column\n",
    "print(\"x2[::-1, ::-1] = \"); print(x2[::-1, ::-1]) #reversed 2D array\n",
    "print(\"x2[:, 0] = \",x2[:, 0])  # first column of x2"
   ]
  },
  {
   "cell_type": "markdown",
   "metadata": {
    "slideshow": {
     "slide_type": "slide"
    }
   },
   "source": [
    "## Joining Two Arrays"
   ]
  },
  {
   "cell_type": "markdown",
   "metadata": {
    "slideshow": {
     "slide_type": "subslide"
    }
   },
   "source": [
    "Joining of two arrays in NumPy, is primarily accomplished using the routine `np.concatenate`."
   ]
  },
  {
   "cell_type": "code",
   "execution_count": 81,
   "metadata": {
    "slideshow": {
     "slide_type": "fragment"
    }
   },
   "outputs": [
    {
     "name": "stdout",
     "output_type": "stream",
     "text": [
      "[1 2 3 4 5 6 1 2 3 4 5 6]\n"
     ]
    }
   ],
   "source": [
    "x = np.array([1,2,3])\n",
    "y = np.array([4,5,6])\n",
    "z = np.concatenate([x,y]) # Combines x and y to give one array. \n",
    "# a = np.concatenate([x,y,z])\n",
    "print(z)"
   ]
  },
  {
   "cell_type": "code",
   "execution_count": 84,
   "metadata": {
    "slideshow": {
     "slide_type": "fragment"
    }
   },
   "outputs": [
    {
     "name": "stdout",
     "output_type": "stream",
     "text": [
      "[[1 2 3]\n",
      " [2 3 4]\n",
      " [3 4 5]\n",
      " [4 5 6]]\n"
     ]
    }
   ],
   "source": [
    "x2 = np.array([[1,2,3],[2,3,4]])\n",
    "y2 = np.array([[3,4,5],[4,5,6]])\n",
    "z2 = np.concatenate([x2,y2])\n",
    "print(z2)"
   ]
  },
  {
   "cell_type": "markdown",
   "metadata": {
    "slideshow": {
     "slide_type": "slide"
    }
   },
   "source": [
    "# Arithmetic Operations on 2D arrays "
   ]
  },
  {
   "cell_type": "markdown",
   "metadata": {
    "slideshow": {
     "slide_type": "fragment"
    }
   },
   "source": [
    "| Operator \t| Equivalent Function \t|\n",
    "|----------\t|---------------------\t|\n",
    "| +        \t| np.add              \t|\n",
    "| -        \t| np.subtract         \t|\n",
    "| *        \t| np.multiply         \t|"
   ]
  },
  {
   "cell_type": "code",
   "execution_count": 91,
   "metadata": {
    "slideshow": {
     "slide_type": "subslide"
    }
   },
   "outputs": [
    {
     "name": "stdout",
     "output_type": "stream",
     "text": [
      "x2 + y2 = \n",
      "[[ 4  6  8]\n",
      " [ 6  8 10]]\n",
      "x2 - y2 = \n",
      "[[-2 -2 -2]\n",
      " [-2 -2 -2]]\n",
      "x2 * y2 = \n",
      "[[ 3  8 15]\n",
      " [ 8 15 24]]\n"
     ]
    }
   ],
   "source": [
    "x2 = np.array([[1,2,3],[2,3,4]])\n",
    "y2 = np.array([[3,4,5],[4,5,6]])\n",
    "print(\"x2 + y2 = \"); print(np.add(x2,y2))\n",
    "print(\"x2 - y2 = \"); print(np.subtract(x2,y2))\n",
    "print(\"x2 * y2 = \"); print(np.multiply(x2,y2))"
   ]
  },
  {
   "cell_type": "code",
   "execution_count": null,
   "metadata": {},
   "outputs": [],
   "source": []
  }
 ],
 "metadata": {
  "celltoolbar": "Slideshow",
  "kernelspec": {
   "display_name": "Python 3",
   "language": "python",
   "name": "python3"
  },
  "language_info": {
   "codemirror_mode": {
    "name": "ipython",
    "version": 3
   },
   "file_extension": ".py",
   "mimetype": "text/x-python",
   "name": "python",
   "nbconvert_exporter": "python",
   "pygments_lexer": "ipython3",
   "version": "3.6.6"
  }
 },
 "nbformat": 4,
 "nbformat_minor": 2
}
