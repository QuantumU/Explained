{
 "cells": [
  {
   "cell_type": "markdown",
   "metadata": {},
   "source": [
    "## Series"
   ]
  },
  {
   "cell_type": "code",
   "execution_count": null,
   "metadata": {},
   "outputs": [],
   "source": [
    "import pandas as pd\n",
    "import numpy as np\n",
    "import random"
   ]
  },
  {
   "cell_type": "code",
   "execution_count": 4,
   "metadata": {},
   "outputs": [
    {
     "data": {
      "text/plain": [
       "0        1\n",
       "1        2\n",
       "2        3\n",
       "3      NaN\n",
       "4    hello\n",
       "dtype: object"
      ]
     },
     "execution_count": 4,
     "metadata": {},
     "output_type": "execute_result"
    }
   ],
   "source": [
    "first_series = pd.Series([1,2,3, np.nan ,\"hello\"])\n",
    "first_series"
   ]
  },
  {
   "cell_type": "code",
   "execution_count": 5,
   "metadata": {},
   "outputs": [
    {
     "data": {
      "text/plain": [
       "A              1\n",
       "B              2\n",
       "C              3\n",
       "Unknown      NaN\n",
       "String     hello\n",
       "dtype: object"
      ]
     },
     "execution_count": 5,
     "metadata": {},
     "output_type": "execute_result"
    }
   ],
   "source": [
    "series = pd.Series([1,2,3, np.nan ,\"hello\"], index = ['A','B','C','Unknown','String'])\n",
    "series\n",
    "#indexing the Series with custom values"
   ]
  },
  {
   "cell_type": "code",
   "execution_count": 7,
   "metadata": {},
   "outputs": [
    {
     "data": {
      "text/plain": [
       "Python         Fun\n",
       "C++       Outdated\n",
       "Coding       Hmm..\n",
       "dtype: object"
      ]
     },
     "execution_count": 7,
     "metadata": {},
     "output_type": "execute_result"
    }
   ],
   "source": [
    "dict = {\"Python\": \"Fun\", \"C++\": \"Outdated\",\"Coding\":\"Hmm..\"}\n",
    "series = pd.Series(dict)\n",
    "series\n",
    "# Dict to pandas Series"
   ]
  },
  {
   "cell_type": "code",
   "execution_count": 10,
   "metadata": {},
   "outputs": [
    {
     "data": {
      "text/plain": [
       "Coding    Hmm..\n",
       "Python      Fun\n",
       "dtype: object"
      ]
     },
     "execution_count": 10,
     "metadata": {},
     "output_type": "execute_result"
    }
   ],
   "source": [
    "series[['Coding','Python']]"
   ]
  },
  {
   "cell_type": "code",
   "execution_count": 11,
   "metadata": {},
   "outputs": [
    {
     "data": {
      "text/plain": [
       "Index(['Python', 'C++', 'Coding'], dtype='object')"
      ]
     },
     "execution_count": 11,
     "metadata": {},
     "output_type": "execute_result"
    }
   ],
   "source": [
    "series.index"
   ]
  },
  {
   "cell_type": "code",
   "execution_count": 12,
   "metadata": {},
   "outputs": [
    {
     "data": {
      "text/plain": [
       "array(['Fun', 'Outdated', 'Hmm..'], dtype=object)"
      ]
     },
     "execution_count": 12,
     "metadata": {},
     "output_type": "execute_result"
    }
   ],
   "source": [
    "series.values"
   ]
  },
  {
   "cell_type": "code",
   "execution_count": 13,
   "metadata": {},
   "outputs": [
    {
     "data": {
      "text/plain": [
       "count            3\n",
       "unique           3\n",
       "top       Outdated\n",
       "freq             1\n",
       "dtype: object"
      ]
     },
     "execution_count": 13,
     "metadata": {},
     "output_type": "execute_result"
    }
   ],
   "source": [
    "series.describe()"
   ]
  },
  {
   "cell_type": "code",
   "execution_count": 15,
   "metadata": {},
   "outputs": [
    {
     "data": {
      "text/plain": [
       "Python         Fun\n",
       "C++       Outdated\n",
       "Coding     Awesome\n",
       "dtype: object"
      ]
     },
     "execution_count": 15,
     "metadata": {},
     "output_type": "execute_result"
    }
   ],
   "source": [
    "#Series is a mutable data structures and you can easily change any item’s value: \n",
    "series['Coding'] = 'Awesome'\n",
    "series"
   ]
  },
  {
   "cell_type": "code",
   "execution_count": 17,
   "metadata": {},
   "outputs": [
    {
     "data": {
      "text/plain": [
       "Python         Fun\n",
       "C++       Outdated\n",
       "Coding     Awesome\n",
       "Java          Okay\n",
       "dtype: object"
      ]
     },
     "execution_count": 17,
     "metadata": {},
     "output_type": "execute_result"
    }
   ],
   "source": [
    "# add new values:\n",
    "series['Java'] = 'Okay'\n",
    "series"
   ]
  },
  {
   "cell_type": "code",
   "execution_count": 25,
   "metadata": {},
   "outputs": [
    {
     "data": {
      "text/plain": [
       "0    0.5\n",
       "1    1.0\n",
       "2    1.5\n",
       "3    2.0\n",
       "4    2.5\n",
       "5    3.0\n",
       "6    NaN\n",
       "dtype: float64"
      ]
     },
     "execution_count": 25,
     "metadata": {},
     "output_type": "execute_result"
    }
   ],
   "source": [
    "# If it is necessary to apply any mathematical operation to Series items, you may done it like below:\n",
    "num_series = pd.Series([1,2,3,4,5,6,None])\n",
    "num_series_changed = num_series/2\n",
    "num_series_changed"
   ]
  },
  {
   "cell_type": "code",
   "execution_count": 26,
   "metadata": {},
   "outputs": [
    {
     "name": "stdout",
     "output_type": "stream",
     "text": [
      "Python    False\n",
      "C++       False\n",
      "Coding    False\n",
      "Java      False\n",
      "dtype: bool\n",
      "0     True\n",
      "1     True\n",
      "2     True\n",
      "3     True\n",
      "4     True\n",
      "5     True\n",
      "6    False\n",
      "dtype: bool\n",
      "0     True\n",
      "1     True\n",
      "2     True\n",
      "3     True\n",
      "4     True\n",
      "5     True\n",
      "6    False\n",
      "dtype: bool\n"
     ]
    }
   ],
   "source": [
    "# NULL/NaN checking can be performed with isnull() and notnull().\n",
    "print(series.isnull())\n",
    "print(num_series.notnull())\n",
    "print(num_series_changed.notnull())"
   ]
  },
  {
   "cell_type": "markdown",
   "metadata": {},
   "source": [
    "## DataFrames "
   ]
  },
  {
   "cell_type": "code",
   "execution_count": 28,
   "metadata": {},
   "outputs": [
    {
     "data": {
      "text/html": [
       "<div>\n",
       "<style scoped>\n",
       "    .dataframe tbody tr th:only-of-type {\n",
       "        vertical-align: middle;\n",
       "    }\n",
       "\n",
       "    .dataframe tbody tr th {\n",
       "        vertical-align: top;\n",
       "    }\n",
       "\n",
       "    .dataframe thead th {\n",
       "        text-align: right;\n",
       "    }\n",
       "</style>\n",
       "<table border=\"1\" class=\"dataframe\">\n",
       "  <thead>\n",
       "    <tr style=\"text-align: right;\">\n",
       "      <th></th>\n",
       "      <th>year</th>\n",
       "      <th>winner</th>\n",
       "      <th>runner-up</th>\n",
       "      <th>final score</th>\n",
       "    </tr>\n",
       "  </thead>\n",
       "  <tbody>\n",
       "    <tr>\n",
       "      <th>0</th>\n",
       "      <td>1990</td>\n",
       "      <td>Germany</td>\n",
       "      <td>Argentina</td>\n",
       "      <td>1-0</td>\n",
       "    </tr>\n",
       "    <tr>\n",
       "      <th>1</th>\n",
       "      <td>1994</td>\n",
       "      <td>Brazil</td>\n",
       "      <td>Italy</td>\n",
       "      <td>0-0 (pen)</td>\n",
       "    </tr>\n",
       "    <tr>\n",
       "      <th>2</th>\n",
       "      <td>1998</td>\n",
       "      <td>France</td>\n",
       "      <td>Brazil</td>\n",
       "      <td>3-0</td>\n",
       "    </tr>\n",
       "    <tr>\n",
       "      <th>3</th>\n",
       "      <td>2002</td>\n",
       "      <td>Brazil</td>\n",
       "      <td>Germany</td>\n",
       "      <td>2-0</td>\n",
       "    </tr>\n",
       "    <tr>\n",
       "      <th>4</th>\n",
       "      <td>2006</td>\n",
       "      <td>Italy</td>\n",
       "      <td>France</td>\n",
       "      <td>1-1 (pen)</td>\n",
       "    </tr>\n",
       "    <tr>\n",
       "      <th>5</th>\n",
       "      <td>2010</td>\n",
       "      <td>Spain</td>\n",
       "      <td>Netherlands</td>\n",
       "      <td>1-0</td>\n",
       "    </tr>\n",
       "    <tr>\n",
       "      <th>6</th>\n",
       "      <td>2014</td>\n",
       "      <td>Germany</td>\n",
       "      <td>Argentina</td>\n",
       "      <td>1-0</td>\n",
       "    </tr>\n",
       "  </tbody>\n",
       "</table>\n",
       "</div>"
      ],
      "text/plain": [
       "   year   winner    runner-up final score\n",
       "0  1990  Germany    Argentina         1-0\n",
       "1  1994   Brazil        Italy   0-0 (pen)\n",
       "2  1998   France       Brazil         3-0\n",
       "3  2002   Brazil      Germany         2-0\n",
       "4  2006    Italy       France   1-1 (pen)\n",
       "5  2010    Spain  Netherlands         1-0\n",
       "6  2014  Germany    Argentina         1-0"
      ]
     },
     "execution_count": 28,
     "metadata": {},
     "output_type": "execute_result"
    }
   ],
   "source": [
    "data = {'year': [1990, 1994, 1998, 2002, 2006, 2010, 2014],\n",
    "        'winner': ['Germany', 'Brazil', 'France', 'Brazil','Italy', 'Spain', 'Germany'],\n",
    "        'runner-up': ['Argentina', 'Italy', 'Brazil','Germany', 'France', 'Netherlands', 'Argentina'],\n",
    "        'final score': ['1-0', '0-0 (pen)', '3-0', '2-0', '1-1 (pen)', '1-0', '1-0'] }\n",
    "world_cup = pd.DataFrame(data, columns=['year', 'winner', 'runner-up', 'final score'])\n",
    "world_cup"
   ]
  },
  {
   "cell_type": "code",
   "execution_count": 29,
   "metadata": {},
   "outputs": [
    {
     "data": {
      "text/html": [
       "<div>\n",
       "<style scoped>\n",
       "    .dataframe tbody tr th:only-of-type {\n",
       "        vertical-align: middle;\n",
       "    }\n",
       "\n",
       "    .dataframe tbody tr th {\n",
       "        vertical-align: top;\n",
       "    }\n",
       "\n",
       "    .dataframe thead th {\n",
       "        text-align: right;\n",
       "    }\n",
       "</style>\n",
       "<table border=\"1\" class=\"dataframe\">\n",
       "  <thead>\n",
       "    <tr style=\"text-align: right;\">\n",
       "      <th></th>\n",
       "      <th>final score</th>\n",
       "      <th>runner-up</th>\n",
       "      <th>winner</th>\n",
       "      <th>year</th>\n",
       "    </tr>\n",
       "  </thead>\n",
       "  <tbody>\n",
       "    <tr>\n",
       "      <th>0</th>\n",
       "      <td>1-0</td>\n",
       "      <td>Argentina</td>\n",
       "      <td>Germany</td>\n",
       "      <td>1990</td>\n",
       "    </tr>\n",
       "    <tr>\n",
       "      <th>1</th>\n",
       "      <td>0-0 (pen)</td>\n",
       "      <td>Italy</td>\n",
       "      <td>Brazil</td>\n",
       "      <td>1994</td>\n",
       "    </tr>\n",
       "    <tr>\n",
       "      <th>2</th>\n",
       "      <td>3-0</td>\n",
       "      <td>Brazil</td>\n",
       "      <td>France</td>\n",
       "      <td>1998</td>\n",
       "    </tr>\n",
       "    <tr>\n",
       "      <th>3</th>\n",
       "      <td>2-0</td>\n",
       "      <td>Germany</td>\n",
       "      <td>Brazil</td>\n",
       "      <td>2002</td>\n",
       "    </tr>\n",
       "    <tr>\n",
       "      <th>4</th>\n",
       "      <td>1-1 (pen)</td>\n",
       "      <td>France</td>\n",
       "      <td>Italy</td>\n",
       "      <td>2006</td>\n",
       "    </tr>\n",
       "    <tr>\n",
       "      <th>5</th>\n",
       "      <td>1-0</td>\n",
       "      <td>Netherlands</td>\n",
       "      <td>Spain</td>\n",
       "      <td>2010</td>\n",
       "    </tr>\n",
       "    <tr>\n",
       "      <th>6</th>\n",
       "      <td>1-0</td>\n",
       "      <td>Argentina</td>\n",
       "      <td>Germany</td>\n",
       "      <td>2014</td>\n",
       "    </tr>\n",
       "  </tbody>\n",
       "</table>\n",
       "</div>"
      ],
      "text/plain": [
       "  final score    runner-up   winner  year\n",
       "0         1-0    Argentina  Germany  1990\n",
       "1   0-0 (pen)        Italy   Brazil  1994\n",
       "2         3-0       Brazil   France  1998\n",
       "3         2-0      Germany   Brazil  2002\n",
       "4   1-1 (pen)       France    Italy  2006\n",
       "5         1-0  Netherlands    Spain  2010\n",
       "6         1-0    Argentina  Germany  2014"
      ]
     },
     "execution_count": 29,
     "metadata": {},
     "output_type": "execute_result"
    }
   ],
   "source": [
    "# Other recipe to set a DataFrame is the using of Python list of dictionaries:\n",
    "\n",
    "data_2 = [{'year': 1990, 'winner': 'Germany', 'runner-up': 'Argentina', 'final score': '1-0'}, \n",
    "          {'year': 1994, 'winner': 'Brazil', 'runner-up': 'Italy', 'final score': '0-0 (pen)'},\n",
    "          {'year': 1998, 'winner': 'France', 'runner-up': 'Brazil', 'final score': '3-0'}, \n",
    "          {'year': 2002, 'winner': 'Brazil', 'runner-up': 'Germany', 'final score': '2-0'}, \n",
    "          {'year': 2006, 'winner': 'Italy','runner-up': 'France', 'final score': '1-1 (pen)'}, \n",
    "          {'year': 2010, 'winner': 'Spain', 'runner-up': 'Netherlands', 'final score': '1-0'}, \n",
    "          {'year': 2014, 'winner': 'Germany', 'runner-up': 'Argentina', 'final score': '1-0'}\n",
    "         ]\n",
    "world_cup = pd.DataFrame(data_2)\n",
    "world_cup"
   ]
  },
  {
   "cell_type": "code",
   "execution_count": 37,
   "metadata": {},
   "outputs": [
    {
     "name": "stdout",
     "output_type": "stream",
     "text": [
      "First 2 Rows: \n",
      "\n",
      "  final score  runner-up   winner  year\n",
      "0         1-0  Argentina  Germany  1990\n",
      "1   0-0 (pen)      Italy   Brazil  1994\n",
      "\n",
      "Last 2 Rows : \n",
      "\n",
      "  final score    runner-up   winner  year\n",
      "5         1-0  Netherlands    Spain  2010\n",
      "6         1-0    Argentina  Germany  2014\n",
      "\n",
      "Using slicing : \n",
      "\n",
      "  final score runner-up  winner  year\n",
      "2         3-0    Brazil  France  1998\n",
      "3         2-0   Germany  Brazil  2002\n"
     ]
    }
   ],
   "source": [
    "print(\"First 2 Rows: \",end=\"\\n\\n\")\n",
    "print (world_cup.head(2),end=\"\\n\\n\")\n",
    "print (\"Last 2 Rows : \",end=\"\\n\\n\")\n",
    "print (world_cup.tail(2),end=\"\\n\\n\")\n",
    "print(\"Using slicing : \",end=\"\\n\\n\")\n",
    "print (world_cup[2:4])"
   ]
  },
  {
   "cell_type": "markdown",
   "metadata": {},
   "source": [
    "### CSV\n",
    "#### Reading:\n",
    "\n",
    "`df = pd.read_csv(\"path\\to\\the\\csv\\file\\for\\reading\")`\n",
    "#### Writing:\n",
    "\n",
    "`df.to_csv(\"path\\to\\the\\folder\\where\\you\\want\\save\\csv\\file\")`\n",
    "\n",
    "\n",
    "### TXT file(s)\n",
    "(txt file can be read as a CSV file with other separator (delimiter); we suppose below that columns are separated by tabulation):\n",
    "\n",
    "#### Reading:\n",
    "\n",
    "`df = pd.read_csv(\"path\\to\\the\\txt\\file\\for\\reading\", sep='\\t')`\n",
    "#### Writing:\n",
    "\n",
    "`df.to_csv(\"path\\to\\the\\folder\\where\\you\\want\\save\\txt\\file\", sep='\\t')`\n",
    "### JSON files\n",
    "(an open-standard format that uses human-readable text to transmit data objects consisting of attribute–value pairs. It is the most common data format used for asynchronous browser/server communication. By its view it is very similar to Python dictionary)\n",
    "\n",
    "#### Reading:\n",
    "\n",
    "`df = pd.read_json(\"path\\to\\the\\json\\file\\for\\reading\", sep='\\t')`\n",
    "#### Writing:\n",
    "\n",
    "`df.to_json(\"path\\to\\the\\folder\\where\\you\\want\\save\\json\\file\", sep='\\t')`"
   ]
  },
  {
   "cell_type": "code",
   "execution_count": 41,
   "metadata": {},
   "outputs": [
    {
     "name": "stdout",
     "output_type": "stream",
     "text": [
      "File Written!\n",
      "\n",
      "True\n",
      "   Unnamed: 0 final score  runner-up   winner  year\n",
      "0           0         1-0  Argentina  Germany  1990\n",
      "1           1   0-0 (pen)      Italy   Brazil  1994\n",
      "2           2         3-0     Brazil   France  1998\n",
      "3           3         2-0    Germany   Brazil  2002\n",
      "4           4   1-1 (pen)     France    Italy  2006\n"
     ]
    }
   ],
   "source": [
    "# To write world_cup Dataframe to a CSV File \n",
    "world_cup.to_csv(\"worldcup.csv\")\n",
    "# To save CSV file without index use index=False attribute\n",
    "\n",
    "print(\"File Written!\",end=\"\\n\\n\")\n",
    "\n",
    "#To check if it was written \n",
    "import os\n",
    "print(os.path.exists('worldcup.csv'))\n",
    "\n",
    "# reading from it in a new dataframe df\n",
    "df = pd.read_csv('worldcup.csv')\n",
    "print(df.head())\n",
    "\n"
   ]
  },
  {
   "cell_type": "code",
   "execution_count": 43,
   "metadata": {},
   "outputs": [
    {
     "name": "stdout",
     "output_type": "stream",
     "text": [
      "  final score    runner-up   winner  year\n",
      "0         1-0    Argentina  Germany  1990\n",
      "1   0-0 (pen)        Italy   Brazil  1994\n",
      "2         3-0       Brazil   France  1998\n",
      "3         2-0      Germany   Brazil  2002\n",
      "4   1-1 (pen)       France    Italy  2006\n",
      "5         1-0  Netherlands    Spain  2010\n",
      "6         1-0    Argentina  Germany  2014\n"
     ]
    }
   ],
   "source": [
    "# We can also load the data without index as : \n",
    "df = pd.read_csv('worldcup.csv',index_col=0)\n",
    "print(df)"
   ]
  },
  {
   "cell_type": "code",
   "execution_count": 56,
   "metadata": {},
   "outputs": [],
   "source": [
    "movies=pd.read_csv(\"data/movies.csv\",encoding = \"ISO-8859-1\") \n",
    "# encoding is added only for this specific dataset because it gave error with utf-8"
   ]
  },
  {
   "cell_type": "code",
   "execution_count": 57,
   "metadata": {},
   "outputs": [
    {
     "name": "stdout",
     "output_type": "stream",
     "text": [
      "    user_id  movie_id  rating  timestamp   age gender     occupation zip_code  \\\n",
      "0       196       242       3  881250949  49.0      M         writer    55105   \n",
      "1       305       242       5  886307828  23.0      M     programmer    94086   \n",
      "2         6       242       4  883268170  42.0      M      executive    98101   \n",
      "3       234       242       4  891033261  60.0      M        retired    94702   \n",
      "4        63       242       3  875747190  31.0      M      marketing    75240   \n",
      "5       181       242       1  878961814  26.0      M      executive    21218   \n",
      "6       201       242       4  884110598  27.0      M         writer    E2A4H   \n",
      "7       249       242       5  879571438  25.0      M        student    84103   \n",
      "8        13       242       2  881515193  47.0      M       educator    29206   \n",
      "9       279       242       3  877756647  33.0      M     programmer    85251   \n",
      "10      145       242       5  875269755  31.0      M  entertainment    V3N4P   \n",
      "11       90       242       4  891382267  60.0      M       educator    78155   \n",
      "12      271       242       4  885844495  51.0      M       engineer    22932   \n",
      "13       18       242       5  880129305  35.0      F          other    37212   \n",
      "14        1       242       5  889751633   NaN      M            NaN    85711   \n",
      "15      207       242       4  890793823  39.0      M      marketing    92037   \n",
      "16       14       242       4  876964570  45.0      M      scientist    55106   \n",
      "17      113       242       2  875075887  47.0      M      executive    95032   \n",
      "18      123       242       5  879809053   NaN      F         artist    20008   \n",
      "19      296       242       4  884196057  43.0      F  administrator    16803   \n",
      "\n",
      "     movie_title release_date   ...    Fantasy  Film-Noir  Horror  Musical  \\\n",
      "0   Kolya (1996)   1997-01-24   ...          0          0       0        0   \n",
      "1   Kolya (1996)   1997-01-24   ...          0          0       0        0   \n",
      "2   Kolya (1996)   1997-01-24   ...          0          0       0        0   \n",
      "3   Kolya (1996)   1997-01-24   ...          0          0       0        0   \n",
      "4   Kolya (1996)   1997-01-24   ...          0          0       0        0   \n",
      "5   Kolya (1996)   1997-01-24   ...          0          0       0        0   \n",
      "6   Kolya (1996)   1997-01-24   ...          0          0       0        0   \n",
      "7   Kolya (1996)   1997-01-24   ...          0          0       0        0   \n",
      "8   Kolya (1996)   1997-01-24   ...          0          0       0        0   \n",
      "9   Kolya (1996)   1997-01-24   ...          0          0       0        0   \n",
      "10  Kolya (1996)   1997-01-24   ...          0          0       0        0   \n",
      "11  Kolya (1996)   1997-01-24   ...          0          0       0        0   \n",
      "12  Kolya (1996)   1997-01-24   ...          0          0       0        0   \n",
      "13  Kolya (1996)   1997-01-24   ...          0          0       0        0   \n",
      "14  Kolya (1996)   1997-01-24   ...          0          0       0        0   \n",
      "15  Kolya (1996)   1997-01-24   ...          0          0       0        0   \n",
      "16  Kolya (1996)   1997-01-24   ...          0          0       0        0   \n",
      "17  Kolya (1996)   1997-01-24   ...          0          0       0        0   \n",
      "18  Kolya (1996)   1997-01-24   ...          0          0       0        0   \n",
      "19  Kolya (1996)   1997-01-24   ...          0          0       0        0   \n",
      "\n",
      "    Mystery  Romance  Sci-Fi  Thriller  War  Western  \n",
      "0         0        0       0         0    0        0  \n",
      "1         0        0       0         0    0        0  \n",
      "2         0        0       0         0    0        0  \n",
      "3         0        0       0         0    0        0  \n",
      "4         0        0       0         0    0        0  \n",
      "5         0        0       0         0    0        0  \n",
      "6         0        0       0         0    0        0  \n",
      "7         0        0       0         0    0        0  \n",
      "8         0        0       0         0    0        0  \n",
      "9         0        0       0         0    0        0  \n",
      "10        0        0       0         0    0        0  \n",
      "11        0        0       0         0    0        0  \n",
      "12        0        0       0         0    0        0  \n",
      "13        0        0       0         0    0        0  \n",
      "14        0        0       0         0    0        0  \n",
      "15        0        0       0         0    0        0  \n",
      "16        0        0       0         0    0        0  \n",
      "17        0        0       0         0    0        0  \n",
      "18        0        0       0         0    0        0  \n",
      "19        0        0       0         0    0        0  \n",
      "\n",
      "[20 rows x 30 columns]\n"
     ]
    }
   ],
   "source": [
    "movies['release_date'] = movies['release_date'].map(pd.to_datetime)\n",
    "print(movies.head(20))\n",
    "\n",
    "#print(movies.describe())"
   ]
  },
  {
   "cell_type": "code",
   "execution_count": 54,
   "metadata": {},
   "outputs": [
    {
     "name": "stdout",
     "output_type": "stream",
     "text": [
      "type: <class 'pandas.core.series.Series'>\n"
     ]
    },
    {
     "data": {
      "text/plain": [
       "0    3\n",
       "1    5\n",
       "2    4\n",
       "3    4\n",
       "4    3\n",
       "Name: rating, dtype: int64"
      ]
     },
     "execution_count": 54,
     "metadata": {},
     "output_type": "execute_result"
    }
   ],
   "source": [
    "movies_rating = movies['rating']\n",
    "# Here we are showing only one column, i.e. a Series\n",
    "print ('type:', type(movies_rating))\n",
    "movies_rating.head()"
   ]
  },
  {
   "cell_type": "code",
   "execution_count": 63,
   "metadata": {},
   "outputs": [
    {
     "name": "stdout",
     "output_type": "stream",
     "text": [
      "    user_id  movie_id  rating  timestamp   age gender     occupation zip_code  \\\n",
      "13       18       242       5  880129305  35.0      F          other    37212   \n",
      "18      123       242       5  879809053   NaN      F         artist    20008   \n",
      "19      296       242       4  884196057  43.0      F  administrator    16803   \n",
      "21      270       242       5  876953744  18.0      F        student    63119   \n",
      "22      240       242       5  885775683  23.0      F       educator    20784   \n",
      "\n",
      "     movie_title release_date   ...    Fantasy  Film-Noir  Horror  Musical  \\\n",
      "13  Kolya (1996)   1997-01-24   ...          0          0       0        0   \n",
      "18  Kolya (1996)   1997-01-24   ...          0          0       0        0   \n",
      "19  Kolya (1996)   1997-01-24   ...          0          0       0        0   \n",
      "21  Kolya (1996)   1997-01-24   ...          0          0       0        0   \n",
      "22  Kolya (1996)   1997-01-24   ...          0          0       0        0   \n",
      "\n",
      "    Mystery  Romance  Sci-Fi  Thriller  War  Western  \n",
      "13        0        0       0         0    0        0  \n",
      "18        0        0       0         0    0        0  \n",
      "19        0        0       0         0    0        0  \n",
      "21        0        0       0         0    0        0  \n",
      "22        0        0       0         0    0        0  \n",
      "\n",
      "[5 rows x 30 columns]\n"
     ]
    }
   ],
   "source": [
    "# Filtering data \n",
    "# Let's display only women\n",
    "movies_user_female = movies[movies['gender']=='F']\n",
    "print(movies_user_female.head())"
   ]
  },
  {
   "cell_type": "code",
   "execution_count": 65,
   "metadata": {},
   "outputs": [
    {
     "name": "stdout",
     "output_type": "stream",
     "text": [
      "0               writer\n",
      "1           programmer\n",
      "2            executive\n",
      "3              retired\n",
      "4            marketing\n",
      "5            executive\n",
      "6               writer\n",
      "7              student\n",
      "8             educator\n",
      "9           programmer\n",
      "10       entertainment\n",
      "11            educator\n",
      "12            engineer\n",
      "13               other\n",
      "14                 NaN\n",
      "15           marketing\n",
      "16           scientist\n",
      "17           executive\n",
      "18              artist\n",
      "19       administrator\n",
      "20             student\n",
      "21             student\n",
      "22            educator\n",
      "23                 NaN\n",
      "24              writer\n",
      "25                 NaN\n",
      "26                 NaN\n",
      "27           marketing\n",
      "28       administrator\n",
      "29             student\n",
      "             ...      \n",
      "99970         educator\n",
      "99971            other\n",
      "99972            other\n",
      "99973            other\n",
      "99974    administrator\n",
      "99975           artist\n",
      "99976           artist\n",
      "99977           artist\n",
      "99978           artist\n",
      "99979           artist\n",
      "99980           artist\n",
      "99981    entertainment\n",
      "99982          student\n",
      "99983          student\n",
      "99984           artist\n",
      "99985           artist\n",
      "99986           artist\n",
      "99987          student\n",
      "99988        librarian\n",
      "99989           writer\n",
      "99990              NaN\n",
      "99991           artist\n",
      "99992            other\n",
      "99993            other\n",
      "99994          student\n",
      "99995          student\n",
      "99996          student\n",
      "99997          student\n",
      "99998           writer\n",
      "99999         engineer\n",
      "Name: occupation, Length: 100000, dtype: object\n"
     ]
    }
   ],
   "source": [
    "#to see all the different values possible for a given column\n",
    "occupation_list = movies['occupation']\n",
    "print(occupation_list)"
   ]
  },
  {
   "cell_type": "code",
   "execution_count": null,
   "metadata": {},
   "outputs": [],
   "source": []
  }
 ],
 "metadata": {
  "kernelspec": {
   "display_name": "Python 3",
   "language": "python",
   "name": "python3"
  },
  "language_info": {
   "codemirror_mode": {
    "name": "ipython",
    "version": 3
   },
   "file_extension": ".py",
   "mimetype": "text/x-python",
   "name": "python",
   "nbconvert_exporter": "python",
   "pygments_lexer": "ipython3",
   "version": "3.6.6"
  }
 },
 "nbformat": 4,
 "nbformat_minor": 2
}
